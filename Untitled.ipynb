{
 "cells": [
  {
   "cell_type": "code",
   "execution_count": 1,
   "metadata": {},
   "outputs": [],
   "source": [
    "import pandas as pd\n",
    "import os\n",
    "import json"
   ]
  },
  {
   "cell_type": "code",
   "execution_count": 2,
   "metadata": {},
   "outputs": [
    {
     "name": "stdout",
     "output_type": "stream",
     "text": [
      "ejemplo1.meta\n",
      "ejemplo2.meta\n"
     ]
    }
   ],
   "source": [
    "def read_json_files(root_folder):\n",
    "    json_data = []\n",
    "\n",
    "    # Traverse through all the directories and files in the root folder\n",
    "    for subdir, _, files in os.walk(root_folder):\n",
    "        for file in files:\n",
    "            print(file)\n",
    "            if file.endswith('.meta'):\n",
    "                file_path = os.path.join(subdir, file)\n",
    "                with open(file_path, 'r', encoding='utf-8') as f:\n",
    "                    data = json.load(f)\n",
    "                    json_data.append(data)\n",
    "\n",
    "     # Convert list of JSON objects to a DataFrame\n",
    "    df = pd.DataFrame(json_data)\n",
    "    return df\n",
    "\n",
    "# Example usage\n",
    "root_folder = './RieDGobInfoCalDatos/'\n",
    "df = read_json_files(root_folder)\n"
   ]
  },
  {
   "cell_type": "code",
   "execution_count": 3,
   "metadata": {},
   "outputs": [
    {
     "data": {
      "text/html": [
       "<div>\n",
       "<style scoped>\n",
       "    .dataframe tbody tr th:only-of-type {\n",
       "        vertical-align: middle;\n",
       "    }\n",
       "\n",
       "    .dataframe tbody tr th {\n",
       "        vertical-align: top;\n",
       "    }\n",
       "\n",
       "    .dataframe thead th {\n",
       "        text-align: right;\n",
       "    }\n",
       "</style>\n",
       "<table border=\"1\" class=\"dataframe\">\n",
       "  <thead>\n",
       "    <tr style=\"text-align: right;\">\n",
       "      <th></th>\n",
       "      <th>name</th>\n",
       "      <th>age</th>\n",
       "      <th>address</th>\n",
       "      <th>phoneNumbers</th>\n",
       "      <th>email</th>\n",
       "      <th>isActive</th>\n",
       "    </tr>\n",
       "  </thead>\n",
       "  <tbody>\n",
       "    <tr>\n",
       "      <th>0</th>\n",
       "      <td>John Doe</td>\n",
       "      <td>30</td>\n",
       "      <td>{'street': '123 Main St', 'city': 'Anytown', '...</td>\n",
       "      <td>[{'type': 'home', 'number': '555-1234'}, {'typ...</td>\n",
       "      <td>johndoe@example.com</td>\n",
       "      <td>True</td>\n",
       "    </tr>\n",
       "    <tr>\n",
       "      <th>1</th>\n",
       "      <td>Jane Smith</td>\n",
       "      <td>28</td>\n",
       "      <td>{'street': '456 Elm St', 'city': 'Othertown', ...</td>\n",
       "      <td>[{'type': 'home', 'number': '555-8765'}, {'typ...</td>\n",
       "      <td>janesmith@example.com</td>\n",
       "      <td>False</td>\n",
       "    </tr>\n",
       "  </tbody>\n",
       "</table>\n",
       "</div>"
      ],
      "text/plain": [
       "         name  age                                            address  \\\n",
       "0    John Doe   30  {'street': '123 Main St', 'city': 'Anytown', '...   \n",
       "1  Jane Smith   28  {'street': '456 Elm St', 'city': 'Othertown', ...   \n",
       "\n",
       "                                        phoneNumbers                  email  \\\n",
       "0  [{'type': 'home', 'number': '555-1234'}, {'typ...    johndoe@example.com   \n",
       "1  [{'type': 'home', 'number': '555-8765'}, {'typ...  janesmith@example.com   \n",
       "\n",
       "   isActive  \n",
       "0      True  \n",
       "1     False  "
      ]
     },
     "execution_count": 3,
     "metadata": {},
     "output_type": "execute_result"
    }
   ],
   "source": [
    "df"
   ]
  }
 ],
 "metadata": {
  "kernelspec": {
   "display_name": "Python 3",
   "language": "python",
   "name": "python3"
  },
  "language_info": {
   "codemirror_mode": {
    "name": "ipython",
    "version": 3
   },
   "file_extension": ".py",
   "mimetype": "text/x-python",
   "name": "python",
   "nbconvert_exporter": "python",
   "pygments_lexer": "ipython3",
   "version": "3.11.4"
  }
 },
 "nbformat": 4,
 "nbformat_minor": 2
}
